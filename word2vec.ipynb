{
 "cells": [
  {
   "cell_type": "code",
   "execution_count": 409,
   "metadata": {},
   "outputs": [
    {
     "name": "stderr",
     "output_type": "stream",
     "text": [
      "[nltk_data] Downloading package stopwords to\n",
      "[nltk_data]     /Users/zhangliji/nltk_data...\n",
      "[nltk_data]   Package stopwords is already up-to-date!\n"
     ]
    }
   ],
   "source": [
    "import gensim\n",
    "from collections import Counter\n",
    "import numpy as np\n",
    "import os\n",
    "from sklearn.metrics import confusion_matrix\n",
    "from collections import defaultdict\n",
    "import nltk\n",
    "from nltk.corpus import stopwords\n",
    "from gensim.parsing.preprocessing import remove_stopwords\n",
    "import math\n",
    "from sklearn.metrics import *\n",
    "nltk.download('stopwords')\n",
    "stop_words = stopwords.words('english')\n",
    "class MyCorpus(object):\n",
    "    \"\"\"An interator that yields sentences (lists of str).\"\"\"\n",
    "\n",
    "    def __init__(self, dataset):\n",
    "        self.dataset = dataset\n",
    "\n",
    "    def __iter__(self):\n",
    "        print(\"reading file {0}...this may take a while\".format(self.dataset+\"/\"+self.dataset+\"_corpus.linked.txt\"))\n",
    "        with open(self.dataset, 'rb') as f:\n",
    "            for i, line in enumerate(f):\n",
    "\n",
    "                if (i % 10000 == 0):\n",
    "                    print(\"read {0} reviews\".format(i))\n",
    "                # do some pre-processing and return list of words for each review\n",
    "                # text\n",
    "                line = remove_stopwords(line)\n",
    "                yield gensim.utils.simple_preprocess(line)\n",
    "\n",
    "def main():\n",
    "    documents = MyCorpus('train.txt')\n",
    "    model = gensim.models.Word2Vec(\n",
    "            documents,\n",
    "            size=200,\n",
    "            min_count=2,\n",
    "            iter=20)\n",
    "    model.wv.save_word2vec_format(\"restaurant_stop.200d.txt\", binary=False)\n",
    "    return model\n",
    "\n",
    "def cosSim(vec1, vec2):\n",
    "    return np.dot(vec1, vec2)/(np.linalg.norm(vec1) * np.linalg.norm(vec2))\n",
    "\n",
    "aspect_kw = {'location': ['street', 'block', 'avenue', 'river', 'convenient'],\n",
    "             'drinks': ['drinks', 'beverage', 'wines', 'margarita', 'sake'],\n",
    "             'food': ['food', 'spicy', 'sushi', 'pizza', 'tasty'],\n",
    "             'ambience': ['romantic', 'atmosphere', 'room', 'seating', 'small'],\n",
    "             'service': ['tips', 'manager', 'wait', 'waitress', 'servers'],\n",
    "             }\n",
    "\n",
    "aspect2ind = {k:i for i,k in enumerate(aspect_kw)}\n",
    "ind2aspect = {v:k for k,v in aspect2ind.items()}\n",
    "\n",
    "aspect_kw_enhance = {'location_n': ['street', 'parking', 'avenue', 'river', 'view'],\n",
    "                    'location_adj': ['convenient', 'near'],\n",
    "                    'drinks_n': ['drinks', 'beverage', 'wines', 'margarita', 'sake'],\n",
    "                    'drinks_adj': ['alcoholic', 'iced', 'bottled'],\n",
    "                    'food_n': ['food', 'pizza', 'tuna', 'sushi', 'burger'],\n",
    "                    'food_adj': ['spicy', 'tasty', 'delicious', 'bland', 'savory'],\n",
    "                    'ambience_n': ['atmosphere', 'room', 'decor', 'music', 'space'],\n",
    "                    'ambience_adj': ['romantic', 'small', 'cozy', 'tiny'],\n",
    "                    'service_n': ['tips', 'manager', 'wait', 'waitress', 'servers'],\n",
    "                    'service_adj': ['rude', 'attentive', 'friendly'],\n",
    "                    }\n",
    "\n",
    "aspect_kw_1 = {'location': ['street', 'parking', 'avenue', 'river', 'view', 'convenient', 'near'],\n",
    "                'drinks': ['drinks', 'beverage', 'wines', 'margarita', 'sake', 'alcoholic', 'iced', 'bottled'],\n",
    "                'food': ['food', 'pizza', 'tuna', 'sushi', 'burger', 'spicy', 'tasty', 'delicious', 'bland', 'savory'],\n",
    "                'ambience': ['atmosphere', 'room', 'decor', 'music', 'space', 'romantic', 'small', 'cozy', 'tiny'],\n",
    "                'service': ['tips', 'manager', 'wait', 'waitress', 'servers', 'rude', 'attentive', 'friendly']\n",
    "              }\n",
    "               \n",
    "aspect_kw_enhance_expand = {'location_n': ['street', 'parking', 'avenue', 'river', 'view', 'breathtaking', 'meters', '7th', 'overlooking', 'garage', 'valet', 'epicenter', 'eiffel_tower', 'storefront', 'access'], \n",
    "                    'location_adj': ['convenient', 'near', 'uw', 'campus', 'rental', 'highway', 'staying', 'close', 'location', 'exit', 'at', 'theatre'], \n",
    "                    'drinks_n': ['drinks', 'beverage', 'wines', 'margarita', 'sake', 'drink', 'wine', 'sakes', 'beers', 'beer', 'mixed_drinks', 'sauvignon', 'cocktails', 'dessert_wine', 'stiff'], \n",
    "                    'drinks_adj': ['alcoholic', 'iced', 'bottled', 'tea', 'teas', 'hefeweizen', 'jug', 'arnold', 'drink', 'brewed', 'chai', 'bellini', 'float'], \n",
    "                    'food_n': ['food', 'pizza', 'tuna', 'sushi', 'burger', 'maguro', 'burgers', 'gari', 'ahi', 'sashimi', ',', 'salmon', 'roll', 'tataki'], \n",
    "                    'food_adj': ['spicy', 'tasty', 'delicious', 'bland', 'savory', 'flavorful', 'flavor', 'chicken', 'sauce', 'barbecued', 'good', 'salty', 'notably'], \n",
    "                    'ambience_n': ['atmosphere', 'room', 'decor', 'music', 'space', 'loungy', 'rooftop', 'overhead', 'fixtures', 'chandeliers', 'furniture', 'ambiance', 'lighting', 'architecture'], \n",
    "                    'ambience_adj': ['romantic', 'small', 'cozy', 'tiny', 'intimate', 'atomosphere', 'cramped', 'atmoshere', 'spacious', 'dimly', 'couch', 'low_key', 'rooftop', 'suits'], \n",
    "                    'service_n': ['tips', 'manager', 'wait', 'waitress', 'servers', 'server', 'us', 'waiter', 'she', 'barbi', 'our', 'busser', 'sincere', 'acknowledging', 'even'], \n",
    "                    'service_adj': ['rude', 'attentive', 'friendly', 'helpful', 'staff', 'service', 'professional', 'outgoing', 'enthusiastic', 'responsive', 'polite', 'informative', 'server']}\n",
    "\n",
    "sub2aspect = {i: i//2 for i in range(len(aspect_kw_enhance))}\n",
    "\n",
    "def softmax(x):\n",
    "    summ = sum(math.e**(xi) for xi in x if xi>0)\n",
    "    y = [math.e**(xi)/summ if xi >0 else 0 for xi in x ]\n",
    "    return y"
   ]
  },
  {
   "cell_type": "code",
   "execution_count": 382,
   "metadata": {},
   "outputs": [],
   "source": [
    "def read_vec(file):\n",
    "    with open(file) as f:\n",
    "        embs = f.readlines()\n",
    "    wv = dict()\n",
    "    for line in embs[1:]:\n",
    "        line = line.strip().split()\n",
    "        word = line[0]\n",
    "        vec = np.array([float(x) for x in line[1:]])\n",
    "        wv[word] = vec\n",
    "    return wv\n",
    "\n",
    "def calculate_topic_emb(aspect_kw, embedding_dict):\n",
    "    as_topic_emb = dict()\n",
    "    for asp, words in aspect_kw.items():\n",
    "        asp_embs = list()\n",
    "        for word in words:\n",
    "            if not word in embedding_dict:\n",
    "                continue\n",
    "            vec = embedding_dict[word]\n",
    "            asp_embs.append(vec.tolist())\n",
    "        tmp_asp_emb = np.array(asp_embs).mean(axis=0)\n",
    "        as_topic_emb[asp] = tmp_asp_emb / np.linalg.norm(tmp_asp_emb)\n",
    "\n",
    "    as_topic_mat = np.array([as_topic_emb[aspect] for aspect in aspect_kw])\n",
    "    return as_topic_mat"
   ]
  },
  {
   "cell_type": "code",
   "execution_count": 249,
   "metadata": {},
   "outputs": [],
   "source": [
    "wv = read_vec(\"restaurant.200d.txt\")\n",
    "topic_mat = calculate_topic_emb(aspect_kw, wv)"
   ]
  },
  {
   "cell_type": "code",
   "execution_count": 319,
   "metadata": {},
   "outputs": [
    {
     "name": "stdout",
     "output_type": "stream",
     "text": [
      "{'location': ['street', 'block', 'avenue', 'river', 'convenient', 'ave', 'road', 'located', 'central', 'fremont', 'north', 'corner', 'park', 'canal', 'mills'], 'drinks': ['drinks', 'beverage', 'wines', 'margarita', 'sake', 'cocktails', 'beers', 'appetizers', 'sangria', 'champagne', 'cocktail', 'beverages', 'wine', 'desserts', 'beer'], 'food': ['food', 'spicy', 'sushi', 'pizza', 'tasty', 'flavorful', 'fried_rice', 'curries', 'sashimi', 'chinese_food', 'pad_see_ew', 'seafood', 'pad', 'plentiful', 'portion_size'], 'ambience': ['romantic', 'atmosphere', 'room', 'seating', 'small', 'intimate', 'space', 'cozy', 'quiet', 'dining_room', 'spacious', 'patio', 'outdoor', 'fireplace', 'comfy'], 'service': ['tips', 'manager', 'wait', 'waitress', 'servers', 'bartender', 'server', 'waiter', 'hostess', 'host', 'wait_staff', 'cashier', 'hostesses', 'waitstaff', 'waiters']}\n",
      "location 0.9398451795699558\n",
      "drinks 0.9414686957910438\n",
      "food 0.9134188614410902\n",
      "ambience 0.9300946344083338\n",
      "service 0.9465008867545478\n"
     ]
    }
   ],
   "source": [
    "current_kw, topic_mat_update = expand(aspect_kw)"
   ]
  },
  {
   "cell_type": "code",
   "execution_count": 201,
   "metadata": {},
   "outputs": [
    {
     "name": "stdout",
     "output_type": "stream",
     "text": [
      "{'location_n': ['street', 'parking', 'avenue', 'river', 'view', 'bellagio', 'corner', 'pool', 'located', 'building'], 'location_adj': ['convenient', 'near', 'close', 'towards', 'located', 'north', 'mall'], 'drinks_n': ['drinks', 'beverage', 'wines', 'margarita', 'sake', 'cocktails', 'beers', 'appetizers', 'sangria', 'champagne'], 'drinks_adj': ['alcoholic', 'iced', 'bottled', 'tea', 'teas', 'peach', 'hibiscus', 'chai'], 'food_n': ['food', 'pizza', 'tuna', 'sushi', 'burger', 'chinese_food', 'burgers', 'hamburger', 'sandwich', 'fare'], 'food_adj': ['spicy', 'tasty', 'delicious', 'bland', 'savory', 'flavorful', 'yummy', 'watery', 'oily', 'salty'], 'ambience_n': ['atmosphere', 'room', 'decor', 'music', 'space', 'ambience', 'vibe', 'ambiance', 'environment', 'lighting'], 'ambience_adj': ['romantic', 'small', 'cozy', 'tiny', 'intimate', 'tight', 'spacious', 'classy', 'cramped'], 'service_n': ['tips', 'manager', 'wait', 'waitress', 'servers', 'bartender', 'server', 'waiter', 'hostess', 'host'], 'service_adj': ['rude', 'attentive', 'friendly', 'polite', 'courteous', 'accommodating', 'helpful', 'super_friendly']}\n",
      "location_n 0.9639017455376567\n",
      "location_adj 0.8576566364439998\n",
      "drinks_n 0.9635867219325344\n",
      "drinks_adj 0.922499171918097\n",
      "food_n 0.9538737593801008\n",
      "food_adj 0.9708987317697882\n",
      "ambience_n 0.9672687377188608\n",
      "ambience_adj 0.9509635331683178\n",
      "service_n 0.9538864988404417\n",
      "service_adj 0.9697191734516776\n"
     ]
    }
   ],
   "source": [
    "current_kw, topic_mat_update = expand(aspect_kw_enhance,k=5)"
   ]
  },
  {
   "cell_type": "code",
   "execution_count": 173,
   "metadata": {},
   "outputs": [
    {
     "name": "stdout",
     "output_type": "stream",
     "text": [
      "{'location_n': ['street', 'parking', 'avenue', 'river', 'view', 'bellagio', 'pool', 'corner', 'located', 'center', 'shopping', 'mall', 'overlooking', 'casino', 'north'], 'location_adj': ['convenient', 'near', 'close', 'closer', 'closest', 'connected', 'mall', 'located', 'center', 'conveniently', 'shopping', 'north'], 'drinks_n': ['drinks', 'beverage', 'wines', 'margarita', 'sake', 'cocktails', 'beers', 'appetizers', 'desserts', 'beverages', 'martinis', 'drink_specials', 'sangria', 'apps', 'specialty'], 'drinks_adj': ['alcoholic', 'iced', 'bottled', 'tea', 'teas', 'chai', 'peach', 'lemonade', 'mango', 'strawberry', 'milk', 'green_tea', 'latte'], 'food_n': ['food', 'pizza', 'tuna', 'sushi', 'burger', 'chinese_food', 'fare', 'cuisine', 'mexican_food', 'foods', 'comfort_food', 'fast_food', 'breakfast_place', 'fusion', 'mex'], 'food_adj': ['spicy', 'tasty', 'delicious', 'bland', 'savory', 'flavorful', 'yummy', 'watery', 'oily', 'salty', 'rich', 'creamy', 'chewy', 'tender', 'moist'], 'ambience_n': ['atmosphere', 'room', 'decor', 'music', 'space', 'ambience', 'ambiance', 'environment', 'vibe', 'interior', 'lighting', 'layout', 'design', 'décor', 'cozy'], 'ambience_adj': ['romantic', 'small', 'cozy', 'tiny', 'intimate', 'spacious', 'classy', 'comfy', 'comfortable', 'inviting', 'relaxed', 'bright', 'elegant', 'dimly'], 'service_n': ['tips', 'manager', 'wait', 'waitress', 'servers', 'bartender', 'server', 'waiter', 'hostess', 'host', 'cashier', 'wait_staff', 'waitstaff', 'hostesses', 'staff'], 'service_adj': ['rude', 'attentive', 'friendly', 'polite', 'courteous', 'helpful', 'accommodating', 'professional', 'accomodating', 'efficient', 'super_friendly', 'personable', 'welcoming']}\n",
      "location_n 0.9145841723185999\n",
      "location_adj 0.8019575732871567\n",
      "drinks_n 0.9331928110665115\n",
      "drinks_adj 0.840420695380905\n",
      "food_n 0.8081203751023485\n",
      "food_adj 0.9163971697631071\n",
      "ambience_n 0.9489248009542411\n",
      "ambience_adj 0.8699833152746141\n",
      "service_n 0.9377506453918321\n",
      "service_adj 0.9463246723887697\n"
     ]
    }
   ],
   "source": [
    "current_kw, topic_mat_update = expand(aspect_kw_enhance,ite=True)"
   ]
  },
  {
   "cell_type": "code",
   "execution_count": 244,
   "metadata": {},
   "outputs": [],
   "source": [
    "def expand(aspect_kw=aspect_kw, k=10, thres=1.0,use_center=True, ite=False, wv=wv):\n",
    "    aspect2ind = {k:i for i,k in enumerate(aspect_kw)}\n",
    "    ind2aspect = {v:k for k,v in aspect2ind.items()}\n",
    "    current_kw ={}\n",
    "    for aspect in aspect_kw:\n",
    "        current_kw[aspect]=aspect_kw[aspect].copy()\n",
    "    topic_mat = calculate_topic_emb(aspect_kw, wv)\n",
    "    topic_mat_update = topic_mat.copy()\n",
    "    if ite:\n",
    "        ran = k\n",
    "        k = 1\n",
    "    else:\n",
    "        ran = 1\n",
    "    for i in range(ran):\n",
    "        dis_topic = defaultdict(dict)\n",
    "        for asp in current_kw:\n",
    "            for w in wv:\n",
    "                if w not in current_kw[asp]:\n",
    "                    asp_scores = [max(cosSim(topic_mat_update[aspect2ind[asp]],wv[w]),0) for asp in current_kw]\n",
    "                    ordered = sorted(asp_scores,reverse=True)\n",
    "                    if ind2aspect[np.argmax(asp_scores)]==asp and ordered[0]/(ordered[1]+1e-5)<thres:\n",
    "                        dis_topic[asp][w]=0.0\n",
    "                    else:\n",
    "                        dis_topic[asp][w]=cosSim(topic_mat_update[aspect2ind[asp]],wv[w])\n",
    "        '''\n",
    "        for w in wv:\n",
    "            if use_center:\n",
    "                asp_scores = [max(cosSim(topic_mat[aspect2ind[asp]],wv[w]),0) for asp in current_kw]\n",
    "            else:\n",
    "                asp_scores=[]\n",
    "                for aspect in current_kw:\n",
    "                    ind_score = [cosSim(wv[key], wv[w]) for key in current_kw[aspect]]\n",
    "                    asp_scores.append(max(ind_score))\n",
    "            ordered = sorted(asp_scores,reverse=True)\n",
    "            dis_topic[ind2aspect[np.argmax(asp_scores)]][w]=ordered[0]/(ordered[1]+1e-5) #ordered[0]-ordered[1])/ordered[0]\n",
    "        '''\n",
    "        for asp in current_kw:        \n",
    "            top_words = sorted(dis_topic[asp],key=dis_topic[asp].get, reverse=True)[:k]\n",
    "            current_kw[asp].extend(top_words)\n",
    "        topic_mat_update = calculate_topic_emb(current_kw, wv)\n",
    "    print(current_kw)\n",
    "    for asp in current_kw:\n",
    "        print(asp, cosSim(topic_mat[aspect2ind[asp]],topic_mat_update[aspect2ind[asp]]))\n",
    "        '''\n",
    "        for asp2 in current_kw:\n",
    "            if asp != asp2:\n",
    "                print('before',asp, asp2,cosSim(topic_mat[aspect2ind[asp]],topic_mat[aspect2ind[asp2]]))\n",
    "                print('after',asp, asp2,cosSim(topic_mat_update[aspect2ind[asp]],topic_mat_update[aspect2ind[asp2]]))\n",
    "        '''\n",
    "    return current_kw, topic_mat_update"
   ]
  },
  {
   "cell_type": "code",
   "execution_count": 404,
   "metadata": {},
   "outputs": [],
   "source": [
    "def eval(embedding_dict, as_topic_mat,filename='test_score.txt',soft=False, use_center=True,\n",
    "         enhance=False,thres=0.0,current_kw=current_kw):\n",
    "    with open(os.path.join('test.txt')) as f:\n",
    "        test_cont = f.readlines()\n",
    "\n",
    "    asp_labels, senti_labels, docs = list(), list(), list()\n",
    "    for line in test_cont:\n",
    "        _, as_label, senti_label, doc = line.strip().split('\\t')\n",
    "        asp_labels.append(int(as_label))\n",
    "        senti_labels.append(int(senti_label))\n",
    "        docs.append(doc)\n",
    "    emb_size = 200\n",
    "    doc_embs = list()\n",
    "    doc_weights= []\n",
    "    doc_choices = []\n",
    "    for doc in docs:\n",
    "        doc_vec = np.zeros(emb_size)\n",
    "        sen_weights = []\n",
    "        sen_choices = [] \n",
    "        norm = 0\n",
    "        for word in gensim.utils.simple_preprocess(doc):\n",
    "            if word not in embedding_dict:\n",
    "                continue\n",
    "            word_vec = embedding_dict[word]\n",
    "            norm_word_vec = word_vec / np.linalg.norm(word_vec)\n",
    "            if use_center:\n",
    "                product = np.dot(as_topic_mat, norm_word_vec.reshape(-1,1))\n",
    "            else:\n",
    "                product=[]\n",
    "                for aspect in current_kw:\n",
    "                    ind_score = [cosSim(embedding_dict[w], norm_word_vec) for w in current_kw[aspect]]\n",
    "                    product.append(max(ind_score))\n",
    "                product = np.array(product)\n",
    "            if soft: \n",
    "                word_weight = np.max(softmax(product.reshape(-1)))* np.max(product)\n",
    "            else:\n",
    "                word_weight = np.max(product)\n",
    "            norm += word_weight\n",
    "            doc_vec += word_vec * word_weight\n",
    "            word_choice = np.argmax(product)\n",
    "            sen_weights.append(word_weight)\n",
    "            sen_choices.append(word_choice)\n",
    "        doc_embs.append(doc_vec/norm)\n",
    "        doc_weights.append(sen_weights)\n",
    "        doc_choices.append(sen_choices)\n",
    "\n",
    "    doc_embs = np.array(doc_embs)\n",
    "    norm_doc_embs = np.array([vec/np.linalg.norm(vec) for vec in doc_embs])\n",
    "    as_scores = np.dot(norm_doc_embs, as_topic_mat.T)\n",
    "    raw_labels = np.argmax(as_scores, axis=1)\n",
    "    if enhance:\n",
    "        as_pseudo_labels = np.array([sub2aspect[l] for l in raw_labels])\n",
    "    else:\n",
    "        as_pseudo_labels = raw_labels\n",
    "    # subsample according to softmax confidence\n",
    "    as_scores = np.array([softmax(score) for score in as_scores])\n",
    "    confi_scores =  np.max(as_scores, axis=1)\n",
    "    print(sum(confi_scores>thres))\n",
    "    as_pseudo_labels_sub = as_pseudo_labels[confi_scores>thres]\n",
    "    asp_labels_sub = np.array(asp_labels)[confi_scores>thres]\n",
    "    \n",
    "    print(confusion_matrix(asp_labels_sub, as_pseudo_labels_sub))\n",
    "    p = precision_score(asp_labels_sub, as_pseudo_labels_sub,average='macro')\n",
    "    r = recall_score(asp_labels_sub, as_pseudo_labels_sub, average='macro')\n",
    "    f1_mac = f1_score(asp_labels_sub, as_pseudo_labels_sub, average='macro')\n",
    "    p_mic = precision_score(asp_labels_sub, as_pseudo_labels_sub,average='micro')\n",
    "    r_mic = recall_score(asp_labels_sub, as_pseudo_labels_sub, average='micro')\n",
    "    f1_mic = f1_score(asp_labels_sub, as_pseudo_labels_sub, average='micro')\n",
    "    print('mac {} {} {}'.format(p, r, f1_mac))\n",
    "    print('mic {} {} {}'.format(p_mic, r_mic, f1_mic))\n",
    "    with open(filename,'w') as f:\n",
    "        for i in range(len(test_cont)):\n",
    "            if thres >= 0.0:\n",
    "                #if confi_scores[i]>thres:\n",
    "                f.write(str(asp_labels[i])+'\\t')\n",
    "                f.write(str(as_pseudo_labels[i])+'\\t')\n",
    "                #f.write(str(confi_scores[i])+ '\\t')\n",
    "                if enhance:\n",
    "                    partial_sum =0\n",
    "                    for index, s in enumerate(as_scores[i]):\n",
    "                        partial_sum +=s\n",
    "                        if index%2 ==1:\n",
    "                            f.write(str(partial_sum)+ '\\t')\n",
    "                            partial_sum =0\n",
    "                else:\n",
    "                    for s in as_scores[i]:\n",
    "                        f.write(str(s)+ '\\t')\n",
    "                        \n",
    "                f.write(docs[i]+'\\n')\n",
    "            else:\n",
    "                if as_pseudo_labels[i] != asp_labels[i]:\n",
    "                    f.write(test_cont[i])\n",
    "                    for s in doc_weights[i]:\n",
    "                        f.write(format(s, '.2f')+' ')\n",
    "                    f.write('\\n')\n",
    "                    for c in doc_choices[i]:\n",
    "                        f.write(str(c)+' ')\n",
    "                    f.write('\\n')\n",
    "                    f.write(str(as_pseudo_labels[i])+'\\n')\n",
    "    return np.sum(as_pseudo_labels_sub == asp_labels_sub)/len(asp_labels_sub)"
   ]
  },
  {
   "cell_type": "code",
   "execution_count": 252,
   "metadata": {},
   "outputs": [
    {
     "name": "stdout",
     "output_type": "stream",
     "text": [
      "[[  1   0   6   2   2]\n",
      " [  0  22  25   0  10]\n",
      " [  1   2 281   4  16]\n",
      " [  2   0  11  54  10]\n",
      " [  1   1  22   7 163]]\n"
     ]
    },
    {
     "data": {
      "text/plain": [
       "0.8102643856920684"
      ]
     },
     "execution_count": 252,
     "metadata": {},
     "output_type": "execute_result"
    }
   ],
   "source": [
    "eval(wv, topic_mat,'test_base.txt',use_center=True)"
   ]
  },
  {
   "cell_type": "code",
   "execution_count": 321,
   "metadata": {},
   "outputs": [
    {
     "name": "stdout",
     "output_type": "stream",
     "text": [
      "642\n",
      "[[  2   0   1   2   0]\n",
      " [  0  21   3   0   1]\n",
      " [  7  28 282  10  17]\n",
      " [  1   1   2  57   6]\n",
      " [  2  13   9   8 169]]\n",
      "precision 0.6130804716296944 recall 0.7502619460835358 f1 mac 0.6483953453797643\n"
     ]
    },
    {
     "data": {
      "text/plain": [
       "0.8271028037383178"
      ]
     },
     "execution_count": 321,
     "metadata": {},
     "output_type": "execute_result"
    }
   ],
   "source": [
    "#thres = 0.3\n",
    "#for thres in [0.30.35,0.37,0.4]:\n",
    "#    eval(wv, topic_mat_update,'pseudo_{}_{}'.format(k, thres),use_center=False, soft=True, thres=thres)\n",
    "eval(wv, topic_mat_update,'pseudo_{}'.format(k),use_center=False, soft=True, thres=0.0,current_kw=current_kw)\n",
    "# thres number acc\n",
    "# 0.4   175 0.954\n",
    "# 0.37  237 0.932\n",
    "# 0.35  278 0.896\n",
    "# 0.30  428 0.878 "
   ]
  },
  {
   "cell_type": "code",
   "execution_count": 158,
   "metadata": {},
   "outputs": [
    {
     "name": "stdout",
     "output_type": "stream",
     "text": [
      "[[  1   1  11   2   2]\n",
      " [  0  22  48   1  12]\n",
      " [  1   1 237   1   3]\n",
      " [  2   0  13  55   5]\n",
      " [  1   1  36   8 179]]\n"
     ]
    },
    {
     "data": {
      "text/plain": [
       "0.7682737169517885"
      ]
     },
     "execution_count": 158,
     "metadata": {},
     "output_type": "execute_result"
    }
   ],
   "source": [
    "eval(wv, topic_mat_update,'test_ind_{}'.format(k),use_center=False)"
   ]
  },
  {
   "cell_type": "code",
   "execution_count": 196,
   "metadata": {},
   "outputs": [
    {
     "name": "stdout",
     "output_type": "stream",
     "text": [
      "[[  3   0   4   6   4]\n",
      " [  0  21  45   2  12]\n",
      " [  0   2 262   1   7]\n",
      " [  2   0   7  51   5]\n",
      " [  0   2  27   7 173]]\n"
     ]
    },
    {
     "data": {
      "text/plain": [
       "0.7931570762052877"
      ]
     },
     "execution_count": 196,
     "metadata": {},
     "output_type": "execute_result"
    }
   ],
   "source": [
    "eval(wv, topic_mat_update,'test_{}_enhance_ite'.format(k),use_center=True, enhance=True)"
   ]
  },
  {
   "cell_type": "code",
   "execution_count": 205,
   "metadata": {},
   "outputs": [
    {
     "name": "stdout",
     "output_type": "stream",
     "text": [
      "[[  3   0   7   8   7]\n",
      " [  0  21  24   1  11]\n",
      " [  0   3 279   1   9]\n",
      " [  2   0  10  52   6]\n",
      " [  0   1  25   5 168]]\n"
     ]
    },
    {
     "data": {
      "text/plain": [
       "0.8133748055987559"
      ]
     },
     "execution_count": 205,
     "metadata": {},
     "output_type": "execute_result"
    }
   ],
   "source": [
    "eval(wv, topic_mat_update,'mistake_{}_enhance'.format(k),use_center=False, enhance=True)"
   ]
  },
  {
   "cell_type": "code",
   "execution_count": 316,
   "metadata": {},
   "outputs": [
    {
     "name": "stdout",
     "output_type": "stream",
     "text": [
      "{'location': ['street', 'block', 'avenue', 'river', 'convenient', 'fremont', 'central', 'shopping', 'roosevelt', 'convention', 'ave', 'brien', 'smith', 'road', 'near'], 'drinks': ['drinks', 'beverage', 'wines', 'margarita', 'sake', 'cocktails', 'beverages', 'beers', 'whiskey', 'cocktail', 'martini', 'pitcher', 'great_wine', 'gin', 'alcohol'], 'food': ['food', 'spicy', 'sushi', 'pizza', 'tasty', 'edamame', 'orange_chicken', 'teriyaki', 'gyoza', 'sashimi', 'decently', 'lunch_specials', 'budae', 'exceptionally', 'fishes'], 'ambience': ['romantic', 'atmosphere', 'room', 'seating', 'small', 'intimate', 'setting', 'cozy', 'private', 'quiet', 'booths', 'layout', 'cramped', 'comfy', 'bar_area'], 'service': ['tips', 'manager', 'wait', 'waitress', 'servers', 'hostesses', 'waiter', 'server', 'hostess', 'bartender', 'gentleman', 'waitresses', 'apologized', 'acknowledge', 'politely']}\n",
      "location 0.9677821275739239\n",
      "drinks 0.9666134917109935\n",
      "food 0.932038885494072\n",
      "ambience 0.9548992844172887\n",
      "service 0.963240664011019\n"
     ]
    },
    {
     "ename": "KeyError",
     "evalue": "'3-6pm'",
     "output_type": "error",
     "traceback": [
      "\u001b[0;31m---------------------------------------------------------------------------\u001b[0m",
      "\u001b[0;31mKeyError\u001b[0m                                  Traceback (most recent call last)",
      "\u001b[0;32m<ipython-input-316-be547dfb35cb>\u001b[0m in \u001b[0;36m<module>\u001b[0;34m\u001b[0m\n\u001b[1;32m      1\u001b[0m \u001b[0mwv_stop\u001b[0m \u001b[0;34m=\u001b[0m \u001b[0mread_vec\u001b[0m\u001b[0;34m(\u001b[0m\u001b[0;34m\"restaurant_stop.200d.txt\"\u001b[0m\u001b[0;34m)\u001b[0m\u001b[0;34m\u001b[0m\u001b[0;34m\u001b[0m\u001b[0m\n\u001b[1;32m      2\u001b[0m \u001b[0mcurrent_kw_stop\u001b[0m\u001b[0;34m,\u001b[0m \u001b[0mtopic_mat_update_stop\u001b[0m \u001b[0;34m=\u001b[0m \u001b[0mexpand\u001b[0m\u001b[0;34m(\u001b[0m\u001b[0maspect_kw\u001b[0m\u001b[0;34m,\u001b[0m\u001b[0mwv\u001b[0m\u001b[0;34m=\u001b[0m\u001b[0mwv_stop\u001b[0m\u001b[0;34m)\u001b[0m\u001b[0;34m\u001b[0m\u001b[0;34m\u001b[0m\u001b[0m\n\u001b[0;32m----> 3\u001b[0;31m \u001b[0meval\u001b[0m\u001b[0;34m(\u001b[0m\u001b[0mwv_stop\u001b[0m\u001b[0;34m,\u001b[0m \u001b[0mtopic_mat_update_stop\u001b[0m\u001b[0;34m,\u001b[0m\u001b[0;34m'stop_test_{}'\u001b[0m\u001b[0;34m.\u001b[0m\u001b[0mformat\u001b[0m\u001b[0;34m(\u001b[0m\u001b[0mk\u001b[0m\u001b[0;34m)\u001b[0m\u001b[0;34m,\u001b[0m\u001b[0muse_center\u001b[0m\u001b[0;34m=\u001b[0m\u001b[0;32mFalse\u001b[0m\u001b[0;34m,\u001b[0m \u001b[0msoft\u001b[0m\u001b[0;34m=\u001b[0m\u001b[0;32mFalse\u001b[0m\u001b[0;34m)\u001b[0m\u001b[0;34m\u001b[0m\u001b[0;34m\u001b[0m\u001b[0m\n\u001b[0m",
      "\u001b[0;32m<ipython-input-315-c7312573ba91>\u001b[0m in \u001b[0;36meval\u001b[0;34m(embedding_dict, as_topic_mat, filename, soft, use_center, enhance, thres, current_kw)\u001b[0m\n\u001b[1;32m     29\u001b[0m                 \u001b[0mproduct\u001b[0m\u001b[0;34m=\u001b[0m\u001b[0;34m[\u001b[0m\u001b[0;34m]\u001b[0m\u001b[0;34m\u001b[0m\u001b[0;34m\u001b[0m\u001b[0m\n\u001b[1;32m     30\u001b[0m                 \u001b[0;32mfor\u001b[0m \u001b[0maspect\u001b[0m \u001b[0;32min\u001b[0m \u001b[0mcurrent_kw\u001b[0m\u001b[0;34m:\u001b[0m\u001b[0;34m\u001b[0m\u001b[0;34m\u001b[0m\u001b[0m\n\u001b[0;32m---> 31\u001b[0;31m                     \u001b[0mind_score\u001b[0m \u001b[0;34m=\u001b[0m \u001b[0;34m[\u001b[0m\u001b[0mcosSim\u001b[0m\u001b[0;34m(\u001b[0m\u001b[0membedding_dict\u001b[0m\u001b[0;34m[\u001b[0m\u001b[0mw\u001b[0m\u001b[0;34m]\u001b[0m\u001b[0;34m,\u001b[0m \u001b[0mnorm_word_vec\u001b[0m\u001b[0;34m)\u001b[0m \u001b[0;32mfor\u001b[0m \u001b[0mw\u001b[0m \u001b[0;32min\u001b[0m \u001b[0mcurrent_kw\u001b[0m\u001b[0;34m[\u001b[0m\u001b[0maspect\u001b[0m\u001b[0;34m]\u001b[0m\u001b[0;34m]\u001b[0m\u001b[0;34m\u001b[0m\u001b[0;34m\u001b[0m\u001b[0m\n\u001b[0m\u001b[1;32m     32\u001b[0m                     \u001b[0mproduct\u001b[0m\u001b[0;34m.\u001b[0m\u001b[0mappend\u001b[0m\u001b[0;34m(\u001b[0m\u001b[0mmax\u001b[0m\u001b[0;34m(\u001b[0m\u001b[0mind_score\u001b[0m\u001b[0;34m)\u001b[0m\u001b[0;34m)\u001b[0m\u001b[0;34m\u001b[0m\u001b[0;34m\u001b[0m\u001b[0m\n\u001b[1;32m     33\u001b[0m                 \u001b[0mproduct\u001b[0m \u001b[0;34m=\u001b[0m \u001b[0mnp\u001b[0m\u001b[0;34m.\u001b[0m\u001b[0marray\u001b[0m\u001b[0;34m(\u001b[0m\u001b[0mproduct\u001b[0m\u001b[0;34m)\u001b[0m\u001b[0;34m\u001b[0m\u001b[0;34m\u001b[0m\u001b[0m\n",
      "\u001b[0;32m<ipython-input-315-c7312573ba91>\u001b[0m in \u001b[0;36m<listcomp>\u001b[0;34m(.0)\u001b[0m\n\u001b[1;32m     29\u001b[0m                 \u001b[0mproduct\u001b[0m\u001b[0;34m=\u001b[0m\u001b[0;34m[\u001b[0m\u001b[0;34m]\u001b[0m\u001b[0;34m\u001b[0m\u001b[0;34m\u001b[0m\u001b[0m\n\u001b[1;32m     30\u001b[0m                 \u001b[0;32mfor\u001b[0m \u001b[0maspect\u001b[0m \u001b[0;32min\u001b[0m \u001b[0mcurrent_kw\u001b[0m\u001b[0;34m:\u001b[0m\u001b[0;34m\u001b[0m\u001b[0;34m\u001b[0m\u001b[0m\n\u001b[0;32m---> 31\u001b[0;31m                     \u001b[0mind_score\u001b[0m \u001b[0;34m=\u001b[0m \u001b[0;34m[\u001b[0m\u001b[0mcosSim\u001b[0m\u001b[0;34m(\u001b[0m\u001b[0membedding_dict\u001b[0m\u001b[0;34m[\u001b[0m\u001b[0mw\u001b[0m\u001b[0;34m]\u001b[0m\u001b[0;34m,\u001b[0m \u001b[0mnorm_word_vec\u001b[0m\u001b[0;34m)\u001b[0m \u001b[0;32mfor\u001b[0m \u001b[0mw\u001b[0m \u001b[0;32min\u001b[0m \u001b[0mcurrent_kw\u001b[0m\u001b[0;34m[\u001b[0m\u001b[0maspect\u001b[0m\u001b[0;34m]\u001b[0m\u001b[0;34m]\u001b[0m\u001b[0;34m\u001b[0m\u001b[0;34m\u001b[0m\u001b[0m\n\u001b[0m\u001b[1;32m     32\u001b[0m                     \u001b[0mproduct\u001b[0m\u001b[0;34m.\u001b[0m\u001b[0mappend\u001b[0m\u001b[0;34m(\u001b[0m\u001b[0mmax\u001b[0m\u001b[0;34m(\u001b[0m\u001b[0mind_score\u001b[0m\u001b[0;34m)\u001b[0m\u001b[0;34m)\u001b[0m\u001b[0;34m\u001b[0m\u001b[0;34m\u001b[0m\u001b[0m\n\u001b[1;32m     33\u001b[0m                 \u001b[0mproduct\u001b[0m \u001b[0;34m=\u001b[0m \u001b[0mnp\u001b[0m\u001b[0;34m.\u001b[0m\u001b[0marray\u001b[0m\u001b[0;34m(\u001b[0m\u001b[0mproduct\u001b[0m\u001b[0;34m)\u001b[0m\u001b[0;34m\u001b[0m\u001b[0;34m\u001b[0m\u001b[0m\n",
      "\u001b[0;31mKeyError\u001b[0m: '3-6pm'"
     ]
    }
   ],
   "source": [
    "wv_stop = read_vec(\"restaurant_stop.200d.txt\")\n",
    "current_kw_stop, topic_mat_update_stop = expand(aspect_kw,wv=wv_stop)\n",
    "eval(wv_stop, topic_mat_update_stop,'stop_test_{}'.format(k),use_center=False, soft=False)"
   ]
  },
  {
   "cell_type": "code",
   "execution_count": null,
   "metadata": {},
   "outputs": [],
   "source": []
  },
  {
   "cell_type": "code",
   "execution_count": 213,
   "metadata": {},
   "outputs": [
    {
     "name": "stdout",
     "output_type": "stream",
     "text": [
      "location 0.040803956469103946\n",
      "drinks -0.0431516091044525\n",
      "food 0.17099126274739176\n",
      "ambience -0.012356832791683724\n",
      "service -0.07536520211261215\n"
     ]
    }
   ],
   "source": [
    "for asp in current_kw:\n",
    "    print(asp, cosSim(topic_mat[aspect2ind[asp]],wv['best']))"
   ]
  },
  {
   "cell_type": "code",
   "execution_count": 334,
   "metadata": {},
   "outputs": [],
   "source": [
    "wv3 = read_vec(\"wv110.txt\")\n",
    "topic_mat3 = calculate_topic_emb(aspect_kw, wv3)"
   ]
  },
  {
   "cell_type": "code",
   "execution_count": 335,
   "metadata": {},
   "outputs": [
    {
     "name": "stdout",
     "output_type": "stream",
     "text": [
      "{'location': ['street', 'block', 'avenue', 'river', 'convenient', 'highway', '7th', 'strip', 'storefront', 'shoppes', 'fremont', 'ave', 'breathtaking', 'epicenter', 'roosevelt'], 'drinks': ['drinks', 'beverage', 'wines', 'margarita', 'sake', 'drink', 'wine', 'sakes', 'beers', 'beer', 'mixed_drinks', 'sauvignon', 'cocktails', 'dessert_wine', 'stiff'], 'food': ['food', 'spicy', 'sushi', 'pizza', 'tasty', 'good', '.', ',', 'but', 'and', 'delicious', 'it', 'is', 'was', 'which'], 'ambience': ['romantic', 'atmosphere', 'room', 'seating', 'small', 'rooftop', 'intimate', 'cozy', 'outdoor', 'patio', 'atomosphere', 'space', 'quieter', 'couch', 'indoor'], 'service': ['tips', 'manager', 'wait', 'waitress', 'servers', 'server', 'us', 'waiter', 'she', 'barbi', 'our', 'busser', 'sincere', 'acknowledging', 'even']}\n",
      "location 0.8776883985179151\n",
      "drinks 0.8929628854691214\n",
      "food 0.8862285898981843\n",
      "ambience 0.9127673688783818\n",
      "service 0.8866611147381297\n"
     ]
    }
   ],
   "source": [
    "current_kw3, topic_mat_update3 = expand(aspect_kw,wv=wv3,k=10)"
   ]
  },
  {
   "cell_type": "code",
   "execution_count": 332,
   "metadata": {},
   "outputs": [
    {
     "name": "stderr",
     "output_type": "stream",
     "text": [
      "/Applications/anaconda3/lib/python3.7/site-packages/ipykernel_launcher.py:43: RuntimeWarning: invalid value encountered in true_divide\n"
     ]
    },
    {
     "name": "stdout",
     "output_type": "stream",
     "text": [
      "642\n",
      "[[  3   0   1   1   0]\n",
      " [  0  21   2   0   2]\n",
      " [  3  12 277  17  35]\n",
      " [  1   1   1  55   9]\n",
      " [  2  11   7   9 172]]\n",
      "precision 0.6443056177121405 recall 0.7843698947124841 f1 mac 0.6928822254488667\n"
     ]
    },
    {
     "data": {
      "text/plain": [
       "0.822429906542056"
      ]
     },
     "execution_count": 332,
     "metadata": {},
     "output_type": "execute_result"
    }
   ],
   "source": [
    "eval(wv2, topic_mat_update2,'pseudo2_{}'.format(k),use_center=False, soft=True, thres=0.0,current_kw=current_kw2)"
   ]
  },
  {
   "cell_type": "code",
   "execution_count": 324,
   "metadata": {},
   "outputs": [
    {
     "name": "stdout",
     "output_type": "stream",
     "text": [
      "642\n",
      "[[  2   0   0   2   1]\n",
      " [  0  23   1   1   0]\n",
      " [ 10  12 284  16  22]\n",
      " [  1   1   3  56   6]\n",
      " [  2   9  13  13 164]]\n",
      "precision 0.6148141216269906 recall 0.759464537776235 f1 mac 0.6585661933975155\n"
     ]
    },
    {
     "name": "stderr",
     "output_type": "stream",
     "text": [
      "/Applications/anaconda3/lib/python3.7/site-packages/ipykernel_launcher.py:43: RuntimeWarning: invalid value encountered in true_divide\n"
     ]
    },
    {
     "data": {
      "text/plain": [
       "0.82398753894081"
      ]
     },
     "execution_count": 324,
     "metadata": {},
     "output_type": "execute_result"
    }
   ],
   "source": [
    "eval(wv2, topic_mat2,'pseudo2_{}'.format(k),thres=0.0,current_kw=current_kw2)"
   ]
  },
  {
   "cell_type": "code",
   "execution_count": 336,
   "metadata": {},
   "outputs": [
    {
     "name": "stderr",
     "output_type": "stream",
     "text": [
      "/Applications/anaconda3/lib/python3.7/site-packages/ipykernel_launcher.py:43: RuntimeWarning: invalid value encountered in true_divide\n"
     ]
    },
    {
     "name": "stdout",
     "output_type": "stream",
     "text": [
      "642\n",
      "[[  1   0   4   0   0]\n",
      " [  0   8  16   0   1]\n",
      " [  0   0 342   2   0]\n",
      " [  0   0  58   9   0]\n",
      " [  0   0 159   0  42]]\n",
      "precision 0.8771199158715728 recall 0.371493925720236 f1 mac 0.4268550198358557\n"
     ]
    },
    {
     "data": {
      "text/plain": [
       "0.6261682242990654"
      ]
     },
     "execution_count": 336,
     "metadata": {},
     "output_type": "execute_result"
    }
   ],
   "source": [
    "eval(wv3, topic_mat_update3,'pseudo3_{}'.format(k),use_center=False, soft=True, thres=0.0,current_kw=current_kw3)"
   ]
  },
  {
   "cell_type": "code",
   "execution_count": 337,
   "metadata": {},
   "outputs": [
    {
     "name": "stdout",
     "output_type": "stream",
     "text": [
      "642\n",
      "[[  1   0   4   0   0]\n",
      " [  0  11  11   1   2]\n",
      " [  1   1 331   4   7]\n",
      " [  0   0  19  45   3]\n",
      " [  0   2  71   6 122]]\n",
      "precision 0.75178155748127 recall 0.5761632534999422 f1 mac 0.6317200649126387\n"
     ]
    },
    {
     "name": "stderr",
     "output_type": "stream",
     "text": [
      "/Applications/anaconda3/lib/python3.7/site-packages/ipykernel_launcher.py:43: RuntimeWarning: invalid value encountered in true_divide\n"
     ]
    },
    {
     "data": {
      "text/plain": [
       "0.794392523364486"
      ]
     },
     "execution_count": 337,
     "metadata": {},
     "output_type": "execute_result"
    }
   ],
   "source": [
    "eval(wv3, topic_mat3,'pseudo3_{}'.format(k),thres=0.0,current_kw=current_kw3)"
   ]
  },
  {
   "cell_type": "code",
   "execution_count": 384,
   "metadata": {},
   "outputs": [
    {
     "name": "stdout",
     "output_type": "stream",
     "text": [
      "642\n",
      "[[  2   0   1   1   1]\n",
      " [  1  17   4   0   3]\n",
      " [  1   4 308   6  25]\n",
      " [  2   0   1  56   8]\n",
      " [  1   3  16   7 174]]\n",
      "precision 0.7104051004287971 recall 0.735368274904547 f1 mac 0.7206671828481547 mic 0.867601246105919\n"
     ]
    },
    {
     "name": "stderr",
     "output_type": "stream",
     "text": [
      "/Applications/anaconda3/lib/python3.7/site-packages/ipykernel_launcher.py:43: RuntimeWarning: invalid value encountered in true_divide\n"
     ]
    },
    {
     "data": {
      "text/plain": [
       "0.867601246105919"
      ]
     },
     "execution_count": 384,
     "metadata": {},
     "output_type": "execute_result"
    }
   ],
   "source": [
    "wv3 = read_vec(\"wv110.txt\")\n",
    "topic_mat3_enhance = calculate_topic_emb(aspect_kw_enhance, wv3)\n",
    "eval(wv3, topic_mat3_enhance,'pseudo3_{}'.format(k),enhance=True,thres=0.0)"
   ]
  },
  {
   "cell_type": "code",
   "execution_count": 355,
   "metadata": {},
   "outputs": [
    {
     "name": "stdout",
     "output_type": "stream",
     "text": [
      "{'location_n': ['street', 'parking', 'avenue', 'river', 'view', 'breathtaking', 'meters'], 'location_adj': ['convenient', 'near', 'uw', 'campus'], 'drinks_n': ['drinks', 'beverage', 'wines', 'margarita', 'sake', 'drink', 'wine'], 'drinks_adj': ['alcoholic', 'iced', 'bottled', 'tea', 'teas'], 'food_n': ['food', 'pizza', 'tuna', 'sushi', 'burger', '.', 'maguro'], 'food_adj': ['spicy', 'tasty', 'delicious', 'bland', 'savory', 'flavorful', 'flavor'], 'ambience_n': ['atmosphere', 'room', 'decor', 'music', 'space', 'loungy', 'rooftop'], 'ambience_adj': ['romantic', 'small', 'cozy', 'tiny', 'intimate', 'atomosphere'], 'service_n': ['tips', 'manager', 'wait', 'waitress', 'servers', 'server', 'us'], 'service_adj': ['rude', 'attentive', 'friendly', 'helpful', 'staff']}\n",
      "location_n 0.9711896629861697\n",
      "location_adj 0.8534451075664973\n",
      "drinks_n 0.9742740020508132\n",
      "drinks_adj 0.9304048498657731\n",
      "food_n 0.9637818291098436\n",
      "food_adj 0.9658801868683542\n",
      "ambience_n 0.9527380714825309\n",
      "ambience_adj 0.9412610622418744\n",
      "service_n 0.9732938967529536\n",
      "service_adj 0.9510329536335799\n",
      "642\n",
      "[[  2   0   1   1   1]\n",
      " [  0  16   5   1   3]\n",
      " [  1   4 295   5  39]\n",
      " [  1   0   2  54  10]\n",
      " [  0   3  10   4 184]]\n",
      "precision 0.749056945095741 recall 0.7237902348721509 f1 mac 0.7334993773349938\n"
     ]
    },
    {
     "name": "stderr",
     "output_type": "stream",
     "text": [
      "/Applications/anaconda3/lib/python3.7/site-packages/ipykernel_launcher.py:43: RuntimeWarning: invalid value encountered in true_divide\n"
     ]
    },
    {
     "data": {
      "text/plain": [
       "0.8582554517133957"
      ]
     },
     "execution_count": 355,
     "metadata": {},
     "output_type": "execute_result"
    }
   ],
   "source": [
    "wv3 = read_vec(\"wv110.txt\")\n",
    "current_kw3, topic_mat_update3 = expand(aspect_kw_enhance,wv=wv3,k=2)\n",
    "eval(wv3, topic_mat_update3,'pseudo3_{}'.format(k),use_center=True, soft=False, enhance=True, thres=0.0,current_kw=current_kw3)"
   ]
  },
  {
   "cell_type": "code",
   "execution_count": 407,
   "metadata": {},
   "outputs": [
    {
     "name": "stderr",
     "output_type": "stream",
     "text": [
      "/Applications/anaconda3/lib/python3.7/site-packages/ipykernel_launcher.py:43: RuntimeWarning: invalid value encountered in true_divide\n"
     ]
    },
    {
     "name": "stdout",
     "output_type": "stream",
     "text": [
      "642\n",
      "[[  1   0   4   0   0]\n",
      " [  0   9  14   1   1]\n",
      " [  1   0 336   3   4]\n",
      " [  0   0  16  48   3]\n",
      " [  0   3  77   4 117]]\n",
      "mac 0.75896414189837 0.5670503297466157 0.6240075020491319\n",
      "mic 0.7959501557632399 0.7959501557632399 0.7959501557632399\n"
     ]
    },
    {
     "data": {
      "text/plain": [
       "0.7959501557632399"
      ]
     },
     "execution_count": 407,
     "metadata": {},
     "output_type": "execute_result"
    }
   ],
   "source": [
    "wv4 = read_vec(\"wv113.txt\")\n",
    "topic_mat4 = calculate_topic_emb(aspect_kw, wv4)\n",
    "eval(wv4, topic_mat4,'pseudo5',thres=0.0,use_center=True, soft=True,current_kw = aspect_kw)"
   ]
  },
  {
   "cell_type": "code",
   "execution_count": 356,
   "metadata": {},
   "outputs": [
    {
     "name": "stdout",
     "output_type": "stream",
     "text": [
      "{'location': ['street', 'block', 'avenue', 'river', 'convenient', 'highway', '7th'], 'drinks': ['drinks', 'beverage', 'wines', 'margarita', 'sake', 'drink', 'sakes'], 'food': ['food', 'spicy', 'sushi', 'pizza', 'tasty', 'good', '.'], 'ambience': ['romantic', 'atmosphere', 'room', 'seating', 'small', 'rooftop', 'intimate'], 'service': ['tips', 'manager', 'wait', 'waitress', 'servers', 'server', 'us']}\n",
      "location 0.954659470749324\n",
      "drinks 0.9746646478734772\n",
      "food 0.9813661384906037\n",
      "ambience 0.956346554669606\n",
      "service 0.972572788121977\n"
     ]
    },
    {
     "name": "stderr",
     "output_type": "stream",
     "text": [
      "/Applications/anaconda3/lib/python3.7/site-packages/ipykernel_launcher.py:43: RuntimeWarning: invalid value encountered in true_divide\n"
     ]
    },
    {
     "name": "stdout",
     "output_type": "stream",
     "text": [
      "642\n",
      "[[  1   0   4   0   0]\n",
      " [  0   6  17   0   2]\n",
      " [  1   0 337   2   4]\n",
      " [  0   0  46  19   2]\n",
      " [  0   4 108   1  88]]\n",
      "precision 0.7077012310606061 recall 0.4282088395233137 f1 mac 0.48710269817378915\n"
     ]
    },
    {
     "data": {
      "text/plain": [
       "0.7024922118380063"
      ]
     },
     "execution_count": 356,
     "metadata": {},
     "output_type": "execute_result"
    }
   ],
   "source": [
    "current_kw4, topic_mat_update4 = expand(aspect_kw,wv=wv4,k=2)\n",
    "eval(wv4, topic_mat_update4,'pseudo4_{}'.format(k),use_center=False, soft=True, thres=0.0,current_kw=current_kw4)"
   ]
  },
  {
   "cell_type": "code",
   "execution_count": 412,
   "metadata": {},
   "outputs": [
    {
     "name": "stderr",
     "output_type": "stream",
     "text": [
      "/Applications/anaconda3/lib/python3.7/site-packages/ipykernel_launcher.py:43: RuntimeWarning: invalid value encountered in true_divide\n"
     ]
    },
    {
     "name": "stdout",
     "output_type": "stream",
     "text": [
      "643\n",
      "[[  2   0   1   1   1]\n",
      " [  1  17   6   0   1]\n",
      " [  3   5 309   6  22]\n",
      " [  2   0   2  57   6]\n",
      " [  1   3  17   3 177]]\n",
      "mac 0.7060858028697095 0.7413990914990267 0.7185862285212592\n",
      "mic 0.8740279937791602 0.8740279937791602 0.8740279937791602\n"
     ]
    },
    {
     "data": {
      "text/plain": [
       "0.8740279937791602"
      ]
     },
     "execution_count": 412,
     "metadata": {},
     "output_type": "execute_result"
    }
   ],
   "source": [
    "topic_mat4_enhance = calculate_topic_emb(aspect_kw_enhance, wv4)\n",
    "eval(wv4, topic_mat4_enhance,'mis_pseudo4',enhance=True,use_center=True, soft=False,thres=-2.0,current_kw = current_kw4)"
   ]
  },
  {
   "cell_type": "code",
   "execution_count": 372,
   "metadata": {},
   "outputs": [
    {
     "name": "stdout",
     "output_type": "stream",
     "text": [
      "{'location_n': ['street', 'parking', 'avenue', 'river', 'view', 'breathtaking', '7th'], 'location_adj': ['convenient', 'near', 'campus', 'uw'], 'drinks_n': ['drinks', 'beverage', 'wines', 'margarita', 'sake', 'drink', 'sakes'], 'drinks_adj': ['alcoholic', 'iced', 'bottled', 'tea', 'teas'], 'food_n': ['food', 'pizza', 'tuna', 'sushi', 'burger', '.', 'sashimi'], 'food_adj': ['spicy', 'tasty', 'delicious', 'bland', 'savory', 'flavorful', 'flavor'], 'ambience_n': ['atmosphere', 'room', 'decor', 'music', 'space', 'loungy', 'rooftop'], 'ambience_adj': ['romantic', 'small', 'cozy', 'tiny', 'intimate', 'atomosphere'], 'service_n': ['tips', 'manager', 'wait', 'waitress', 'servers', 'server', 'us'], 'service_adj': ['rude', 'attentive', 'friendly', 'helpful', 'staff']}\n",
      "location_n 0.9610417382931088\n",
      "location_adj 0.85452770287294\n",
      "drinks_n 0.9746646478734772\n",
      "drinks_adj 0.9326204257430823\n",
      "food_n 0.9574452809989803\n",
      "food_adj 0.967577217104486\n",
      "ambience_n 0.9554058171097197\n",
      "ambience_adj 0.9412709690937562\n",
      "service_n 0.972572788121977\n",
      "service_adj 0.9511255018324734\n",
      "642\n",
      "[[  3   0   0   1   1]\n",
      " [  1  16   3   1   4]\n",
      " [  2   5 288   6  43]\n",
      " [  2   0   1  53  11]\n",
      " [  1   3   9   3 185]]\n",
      "precision 0.7086264705081422 recall 0.7577304176790466 f1 mac 0.7230553776751985\n"
     ]
    },
    {
     "name": "stderr",
     "output_type": "stream",
     "text": [
      "/Applications/anaconda3/lib/python3.7/site-packages/ipykernel_launcher.py:43: RuntimeWarning: invalid value encountered in true_divide\n"
     ]
    },
    {
     "data": {
      "text/plain": [
       "0.8489096573208723"
      ]
     },
     "execution_count": 372,
     "metadata": {},
     "output_type": "execute_result"
    }
   ],
   "source": [
    "current_kw4, topic_mat_update4 = expand(aspect_kw_enhance,wv=wv4,k=2)\n",
    "eval(wv4, topic_mat_update4,'pseudo4_{}'.format(k),use_center=True, soft=False, enhance=True, thres=0.0,current_kw=current_kw4)"
   ]
  },
  {
   "cell_type": "code",
   "execution_count": 395,
   "metadata": {},
   "outputs": [
    {
     "name": "stderr",
     "output_type": "stream",
     "text": [
      "/Applications/anaconda3/lib/python3.7/site-packages/ipykernel_launcher.py:43: RuntimeWarning: invalid value encountered in true_divide\n"
     ]
    },
    {
     "name": "stdout",
     "output_type": "stream",
     "text": [
      "642\n",
      "[[  4   0   0   1   0]\n",
      " [  0  17   5   0   3]\n",
      " [ 10   6 260   6  62]\n",
      " [  5   1   0  47  14]\n",
      " [  4   2   8   2 185]]\n",
      "precision 0.6640366879497315 recall 0.7715409001504108 f1 mac 0.6710190403444863\n",
      "precision 0.7990654205607477 recall 0.7990654205607477 f1 micc 0.7990654205607477\n"
     ]
    },
    {
     "data": {
      "text/plain": [
       "0.7990654205607477"
      ]
     },
     "execution_count": 395,
     "metadata": {},
     "output_type": "execute_result"
    }
   ],
   "source": [
    "wv6 = read_vec(\"wv116.txt\")\n",
    "topic_mat6 = calculate_topic_emb(aspect_kw_enhance_expand, wv6)\n",
    "eval(wv6, topic_mat6,'pseudo6',thres=0.0,use_center=True, soft=True, enhance=True, current_kw = aspect_kw_enhance_expand )"
   ]
  },
  {
   "cell_type": "code",
   "execution_count": 410,
   "metadata": {},
   "outputs": [
    {
     "name": "stderr",
     "output_type": "stream",
     "text": [
      "/Applications/anaconda3/lib/python3.7/site-packages/ipykernel_launcher.py:43: RuntimeWarning: invalid value encountered in true_divide\n"
     ]
    },
    {
     "name": "stdout",
     "output_type": "stream",
     "text": [
      "642\n",
      "[[  2   0   2   1   0]\n",
      " [  0  13  10   0   2]\n",
      " [  2   2 319   8  13]\n",
      " [  3   0   6  53   5]\n",
      " [  0   2  31   3 165]]\n",
      "mac 0.7249089002861382 0.6918531759805623 0.7012801901868676\n",
      "mic 0.8598130841121495 0.8598130841121495 0.8598130841121495\n"
     ]
    },
    {
     "data": {
      "text/plain": [
       "0.8598130841121495"
      ]
     },
     "execution_count": 410,
     "metadata": {},
     "output_type": "execute_result"
    }
   ],
   "source": [
    "wv7 = read_vec(\"wv120.txt\")\n",
    "topic_mat7 = calculate_topic_emb(aspect_kw_1, wv7)\n",
    "eval(wv7, topic_mat7,'pseudo7',thres=0.0,use_center=True, soft=True,current_kw = aspect_kw_1)"
   ]
  },
  {
   "cell_type": "code",
   "execution_count": 417,
   "metadata": {},
   "outputs": [
    {
     "data": {
      "text/plain": [
       "False"
      ]
     },
     "execution_count": 417,
     "metadata": {},
     "output_type": "execute_result"
    }
   ],
   "source": [
    "\"n't\" in wv"
   ]
  },
  {
   "cell_type": "code",
   "execution_count": null,
   "metadata": {},
   "outputs": [],
   "source": []
  }
 ],
 "metadata": {
  "kernelspec": {
   "display_name": "Python 3",
   "language": "python",
   "name": "python3"
  },
  "language_info": {
   "codemirror_mode": {
    "name": "ipython",
    "version": 3
   },
   "file_extension": ".py",
   "mimetype": "text/x-python",
   "name": "python",
   "nbconvert_exporter": "python",
   "pygments_lexer": "ipython3",
   "version": "3.7.4"
  }
 },
 "nbformat": 4,
 "nbformat_minor": 2
}
